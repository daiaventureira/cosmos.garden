{
 "cells": [
  {
   "cell_type": "code",
   "execution_count": 199,
   "metadata": {},
   "outputs": [],
   "source": [
    "import pandas as pd\n",
    "import re"
   ]
  },
  {
   "cell_type": "code",
   "execution_count": 207,
   "metadata": {},
   "outputs": [],
   "source": [
    "df = pd.read_csv('../data/raw_corpora.csv')"
   ]
  },
  {
   "cell_type": "code",
   "execution_count": 208,
   "metadata": {},
   "outputs": [],
   "source": [
    "def simplify_messages(msg):\n",
    "    msg = msg.lower()\n",
    "    msg = msg[3:] if msg[:3] == ' - ' else msg\n",
    "    \n",
    "    msg = re.sub(r'[\"\\`]', \"'\", msg)\n",
    "    msg = re.sub(r'[\\[\\]\\(\\)\\{\\}\\t\\n\\\\\\/_=]', '', msg)\n",
    "    \n",
    "    msg = re.sub(r'(\\d+) *x', r'\\1 times', msg)\n",
    "    msg = re.sub(r'(\\d+) *-', r'\\1 minus', msg)\n",
    "    msg = re.sub(r'(\\d+) *\\+', r'\\1 plus', msg)\n",
    "    msg = re.sub(r'%', ' percent ', msg)\n",
    "    msg = re.sub(r';', ',', msg)\n",
    "    \n",
    "    msg = re.sub(r' +', ' ', msg)\n",
    "    \n",
    "    return msg.strip()\n",
    "\n",
    "df.message = df.message.apply(simplify_messages)"
   ]
  },
  {
   "cell_type": "code",
   "execution_count": 209,
   "metadata": {},
   "outputs": [
    {
     "data": {
      "text/html": [
       "<div>\n",
       "<style scoped>\n",
       "    .dataframe tbody tr th:only-of-type {\n",
       "        vertical-align: middle;\n",
       "    }\n",
       "\n",
       "    .dataframe tbody tr th {\n",
       "        vertical-align: top;\n",
       "    }\n",
       "\n",
       "    .dataframe thead th {\n",
       "        text-align: right;\n",
       "    }\n",
       "</style>\n",
       "<table border=\"1\" class=\"dataframe\">\n",
       "  <thead>\n",
       "    <tr style=\"text-align: right;\">\n",
       "      <th></th>\n",
       "      <th>date</th>\n",
       "      <th>message</th>\n",
       "      <th>source</th>\n",
       "      <th>star_sign_index</th>\n",
       "      <th>star_sign_name</th>\n",
       "    </tr>\n",
       "  </thead>\n",
       "  <tbody>\n",
       "    <tr>\n",
       "      <th>0</th>\n",
       "      <td>2019-05-02</td>\n",
       "      <td>you may feel like you're being left out of the...</td>\n",
       "      <td>HoroscopeCom</td>\n",
       "      <td>0</td>\n",
       "      <td>Aries</td>\n",
       "    </tr>\n",
       "    <tr>\n",
       "      <th>1</th>\n",
       "      <td>2019-05-03</td>\n",
       "      <td>is a romantic partner having trouble communica...</td>\n",
       "      <td>HoroscopeCom</td>\n",
       "      <td>0</td>\n",
       "      <td>Aries</td>\n",
       "    </tr>\n",
       "    <tr>\n",
       "      <th>2</th>\n",
       "      <td>2019-05-04</td>\n",
       "      <td>you may discover your emotions are tempered to...</td>\n",
       "      <td>HoroscopeCom</td>\n",
       "      <td>0</td>\n",
       "      <td>Aries</td>\n",
       "    </tr>\n",
       "    <tr>\n",
       "      <th>3</th>\n",
       "      <td>2019-05-05</td>\n",
       "      <td>a current or potential romantic partner might ...</td>\n",
       "      <td>HoroscopeCom</td>\n",
       "      <td>0</td>\n",
       "      <td>Aries</td>\n",
       "    </tr>\n",
       "    <tr>\n",
       "      <th>4</th>\n",
       "      <td>2019-05-06</td>\n",
       "      <td>you and a current or potential romantic partne...</td>\n",
       "      <td>HoroscopeCom</td>\n",
       "      <td>0</td>\n",
       "      <td>Aries</td>\n",
       "    </tr>\n",
       "  </tbody>\n",
       "</table>\n",
       "</div>"
      ],
      "text/plain": [
       "         date                                            message  \\\n",
       "0  2019-05-02  you may feel like you're being left out of the...   \n",
       "1  2019-05-03  is a romantic partner having trouble communica...   \n",
       "2  2019-05-04  you may discover your emotions are tempered to...   \n",
       "3  2019-05-05  a current or potential romantic partner might ...   \n",
       "4  2019-05-06  you and a current or potential romantic partne...   \n",
       "\n",
       "         source  star_sign_index star_sign_name  \n",
       "0  HoroscopeCom                0          Aries  \n",
       "1  HoroscopeCom                0          Aries  \n",
       "2  HoroscopeCom                0          Aries  \n",
       "3  HoroscopeCom                0          Aries  \n",
       "4  HoroscopeCom                0          Aries  "
      ]
     },
     "execution_count": 209,
     "metadata": {},
     "output_type": "execute_result"
    }
   ],
   "source": [
    "df.head()"
   ]
  },
  {
   "cell_type": "code",
   "execution_count": 210,
   "metadata": {},
   "outputs": [],
   "source": [
    "alphabet = df.message.tolist()\n",
    "alphabet = map(lambda m: set(m), alphabet)\n",
    "alphabet = reduce(lambda s, u: s.union(u), alphabet, set())"
   ]
  },
  {
   "cell_type": "code",
   "execution_count": 211,
   "metadata": {},
   "outputs": [
    {
     "name": "stdout",
     "output_type": "stream",
     "text": [
      "44\n",
      "[' ', '!', \"'\", ',', '-', '.', '0', '1', '2', '3', '4', '5', '6', '7', '8', '9', ':', '?', 'a', 'b', 'c', 'd', 'e', 'f', 'g', 'h', 'i', 'j', 'k', 'l', 'm', 'n', 'o', 'p', 'q', 'r', 's', 't', 'u', 'v', 'w', 'x', 'y', 'z']\n"
     ]
    }
   ],
   "source": [
    "print len(alphabet)\n",
    "print sorted(alphabet)"
   ]
  },
  {
   "cell_type": "code",
   "execution_count": 216,
   "metadata": {},
   "outputs": [
    {
     "data": {
      "text/plain": [
       "count    48852.000000\n",
       "mean       401.060775\n",
       "std         95.834003\n",
       "min          0.000000\n",
       "25%        360.000000\n",
       "50%        407.000000\n",
       "75%        465.000000\n",
       "max        676.000000\n",
       "dtype: float64"
      ]
     },
     "execution_count": 216,
     "metadata": {},
     "output_type": "execute_result"
    }
   ],
   "source": [
    "pd.Series(map(lambda x: len(x), df.message.tolist())).describe()"
   ]
  },
  {
   "cell_type": "code",
   "execution_count": 217,
   "metadata": {},
   "outputs": [],
   "source": [
    "df.to_csv('../data/cleaned_corpora.csv', index=None)"
   ]
  },
  {
   "cell_type": "code",
   "execution_count": null,
   "metadata": {},
   "outputs": [],
   "source": []
  }
 ],
 "metadata": {
  "kernelspec": {
   "display_name": "Python 2",
   "language": "python",
   "name": "python2"
  },
  "language_info": {
   "codemirror_mode": {
    "name": "ipython",
    "version": 2
   },
   "file_extension": ".py",
   "mimetype": "text/x-python",
   "name": "python",
   "nbconvert_exporter": "python",
   "pygments_lexer": "ipython2",
   "version": "2.7.13"
  }
 },
 "nbformat": 4,
 "nbformat_minor": 2
}
